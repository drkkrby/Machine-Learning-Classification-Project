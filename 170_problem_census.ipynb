{
 "cells": [
  {
   "cell_type": "markdown",
   "metadata": {
    "id": "PKZFwbX5AQxz"
   },
   "source": [
    "# American Census"
   ]
  },
  {
   "cell_type": "code",
   "execution_count": 1,
   "metadata": {
    "id": "rL6mvvJsAQx2"
   },
   "outputs": [],
   "source": [
    "import numpy as np\n",
    "import pandas as pd\n",
    "import warnings\n",
    "\n",
    "from sklearn.naive_bayes import GaussianNB\n",
    "from sklearn.dummy import DummyClassifier\n",
    "from sklearn.tree import DecisionTreeClassifier\n",
    "from sklearn.svm import SVC\n",
    "from sklearn.neighbors import KNeighborsClassifier\n",
    "from sklearn.linear_model import LogisticRegression\n",
    "\n",
    "from sklearn.metrics import make_scorer\n",
    "\n",
    "from sklearn import preprocessing\n",
    "from sklearn.compose import ColumnTransformer\n",
    "from sklearn.impute import SimpleImputer\n",
    "from sklearn.preprocessing import OrdinalEncoder\n",
    "from sklearn.model_selection import StratifiedKFold\n",
    "from sklearn.model_selection import GridSearchCV\n",
    "\n",
    "import matplotlib.pyplot as plt\n",
    "\n",
    "from sklearn.model_selection import train_test_split\n",
    "\n",
    "from sklearn.metrics import f1_score, accuracy_score\n",
    "\n",
    "from sklearn.model_selection import KFold\n",
    "from sklearn.model_selection import cross_validate"
   ]
  },
  {
   "cell_type": "markdown",
   "metadata": {
    "id": "DGT9I97bAQyF"
   },
   "source": [
    "## Global config"
   ]
  },
  {
   "cell_type": "code",
   "execution_count": 2,
   "metadata": {
    "id": "Wf9kP0I6AQyH"
   },
   "outputs": [],
   "source": [
    "# Data config\n",
    "path_to_csv = \"adult.csv\"\n",
    "\n",
    "# No warnings\n",
    "def warn(*args, **kwargs):\n",
    "    pass\n",
    "warnings.warn = warn"
   ]
  },
  {
   "cell_type": "markdown",
   "metadata": {
    "id": "iTifmGqGAQyR"
   },
   "source": [
    "## Load data"
   ]
  },
  {
   "cell_type": "code",
   "execution_count": 3,
   "metadata": {
    "id": "v5BCUopTAQyT"
   },
   "outputs": [],
   "source": [
    "X = pd.read_csv(\"X_train.csv\")\n",
    "y = pd.read_csv(\"y_train.csv\")\n",
    "\n",
    "X_test = pd.read_csv(\"X_test.csv\")"
   ]
  },
  {
   "cell_type": "markdown",
   "metadata": {
    "id": "2eDWBDv4AQyW"
   },
   "source": [
    "## Helpers"
   ]
  },
  {
   "cell_type": "code",
   "execution_count": 4,
   "metadata": {
    "id": "uh0IEitoAQyX"
   },
   "outputs": [],
   "source": [
    "models = {\n",
    "    \"GaussianNB\": GaussianNB(),\n",
    "    \"DecisionTreeClassifier\": DecisionTreeClassifier(max_depth=None, min_samples_leaf=2, random_state=42),\n",
    "    \"KNeighborsClassifier\": KNeighborsClassifier(n_neighbors=3, weights=\"distance\"),  \n",
    "    \"SVM\": SVC(C=10, kernel=\"poly\",random_state=42),\n",
    "    \"LogisticRegression\": LogisticRegression(penalty=\"none\", C=10, random_state=42),\n",
    "}\n",
    "\n",
    "labelingColumns = np.array([3,4,5,6,7,8,9,10])\n",
    "def labeling(labeledColumn, colouringArray):\n",
    "  for x in range(labeledColumn.first_valid_index(), labeledColumn.first_valid_index() + len(labeledColumn)):\n",
    "    val = np.where(labeledColumn[x] == colouringArray)[0]\n",
    "    if (len(val) == 0):\n",
    "      val = -1\n",
    "    else:\n",
    "      val = val[0]\n",
    "    labeledColumn[x]=val\n",
    "\n",
    "def labelAll(X_train,labelingColumns):\n",
    "  for x in labelingColumns:\n",
    "    labelingColumn = X_train.iloc[:, x]\n",
    "    colouringArray = np.unique(getattr(X_train, X_train.columns[x]).tolist())\n",
    "    labeling(labelingColumn,colouringArray)\n",
    "    #new_labeling(labelingColumn)\n",
    "    print(labelingColumn)\n",
    "\n",
    "def imputeX(X_train):\n",
    "  global_imputer = SimpleImputer(strategy='most_frequent')\n",
    "  X_train[:] = global_imputer.fit_transform(X_train)"
   ]
  },
  {
   "cell_type": "markdown",
   "metadata": {
    "id": "h9NqZ_mXAQya"
   },
   "source": [
    "## Data exploration"
   ]
  },
  {
   "cell_type": "markdown",
   "metadata": {
    "id": "LcJSU8MyAQyb"
   },
   "source": [
    "### Question 1"
   ]
  },
  {
   "cell_type": "markdown",
   "metadata": {
    "id": "XZ6AH4oAAQyh"
   },
   "source": [
    "### Question 2"
   ]
  },
  {
   "cell_type": "code",
   "execution_count": 5,
   "metadata": {
    "id": "PHe9Z_G7GcoB"
   },
   "outputs": [
    {
     "data": {
      "image/png": "[encoded data removed]",
      "text/plain": [
       "<Figure size 432x288 with 1 Axes>"
      ]
     },
     "metadata": {
      "needs_background": "light"
     },
     "output_type": "display_data"
    },
    {
     "data": {
      "image/png": "[encoded data removed]",
      "text/plain": [
       "<Figure size 432x288 with 1 Axes>"
      ]
     },
     "metadata": {
      "needs_background": "light"
     },
     "output_type": "display_data"
    }
   ],
   "source": [
    "sex_index = getattr(X, X.columns[9]).tolist()\n",
    "\n",
    "def sex_labeling(sex_index):\n",
    "    sex = np.array([' Female', ' Male'])\n",
    "\n",
    "    for x in range(0, len(sex_index)):\n",
    "        val = np.where(sex_index[x] == sex)[0]\n",
    "        if (len(val) == 0):\n",
    "            val = -1\n",
    "        else:\n",
    "            val = val[0]\n",
    "        sex_index[x] = val\n",
    "    return sex_index\n",
    "\n",
    "sex_index = np.array(sex_labeling(sex_index))\n",
    "sex_index0 = np.where(y.values[:,0] == 0)\n",
    "sex_index1 = np.where(y.values[:,0] == 1)\n",
    "\n",
    "sex_index0 = sex_index[sex_index0[0]]\n",
    "sex_index1 = sex_index[sex_index1[0]]\n",
    "\n",
    "plt.hist(sex_index0, label=\"Below 50k\")\n",
    "plt.hist(sex_index1, label=\"Above 50k\")\n",
    "plt.xlabel(X.columns[9])\n",
    "plt.legend()\n",
    "plt.show()\n",
    "\n",
    "race_index = getattr(X, X.columns[8]).tolist()\n",
    "\n",
    "def race_labeling(race_index):\n",
    "    race = np.array([' Amer-Indian-Eskimo', ' Asian-Pac-Islander', ' Black', ' Other', ' White'])\n",
    "\n",
    "    for x in range(0, len(race_index)):\n",
    "        val = np.where(race_index[x] == race)[0]\n",
    "        if (len(val) == 0):\n",
    "            val = -1\n",
    "        else:\n",
    "            val = val[0]\n",
    "        race_index[x] = val\n",
    "    return race_index\n",
    "\n",
    "race_index = np.array(race_labeling(race_index))\n",
    "race_index0 = np.where(y.values[:,0] == 0)\n",
    "race_index1 = np.where(y.values[:,0] == 1)\n",
    "\n",
    "race_index0 = race_index[race_index0[0]]\n",
    "race_index1 = race_index[race_index1[0]]\n",
    "\n",
    "plt.hist(race_index0, label=\"Below 50k\")\n",
    "plt.hist(race_index1, label=\"Above 50k\")\n",
    "plt.xlabel(X.columns[8])\n",
    "plt.legend()\n",
    "plt.show()"
   ]
  },
  {
   "cell_type": "markdown",
   "metadata": {
    "id": "jqyAkYZGAQym"
   },
   "source": [
    "## Data preparation"
   ]
  },
  {
   "cell_type": "code",
   "execution_count": 6,
   "metadata": {
    "colab": {
     "base_uri": "https://localhost:8080/",
     "height": 870
    },
    "executionInfo": {
     "elapsed": 1452,
     "status": "ok",
     "timestamp": 1603871829569,
     "user": {
      "displayName": "Doruk Kırbeyi",
      "photoUrl": "https://lh3.googleusercontent.com/a-/AOh14Gg7lZvmFjsLSadU1G9V3NlTGJW8Mf6p62xQPrUlkw=s64",
      "userId": "12126647258254016890"
     },
     "user_tz": -180
    },
    "id": "aCRlguZ_O8mC",
    "outputId": "6bb8bc9b-a341-4f7d-d1a3-71cc96c58aee"
   },
   "outputs": [
    {
     "name": "stdout",
     "output_type": "stream",
     "text": [
      "Index(['age', 'education-num', 'hours-per-week', 'workclass', 'education',\n",
      "       'marital-status', 'occupation', 'relationship', 'race', 'sex',\n",
      "       'native-country'],\n",
      "      dtype='object')\n",
      "[17 18 19 20 21 22 23 24 25 26 27 28 29 30 31 32 33 34 35 36 37 38 39 40\n",
      " 41 42 43 44 45 46 47 48 49 50 51 52 53 54 55 56 57 58 59 60 61 62 63 64\n",
      " 65 66 67 68 69 70 71 72 73 74 75 76 77 78 79 80 81 82 83 84 85 87 88 90]\n",
      "[ 1.  2.  3.  4.  5.  6.  7.  8.  9. 10. 11. 12. 13. 14. 15. 16. nan nan\n",
      " nan nan nan nan nan nan nan nan nan nan nan nan nan nan nan nan nan nan\n",
      " nan nan nan nan nan nan nan nan nan nan nan nan nan nan nan nan nan nan\n",
      " nan nan nan nan nan nan nan nan nan nan nan nan nan nan nan nan nan nan\n",
      " nan nan nan nan nan nan nan nan nan nan nan nan nan nan nan nan nan nan\n",
      " nan nan nan nan nan nan nan nan nan nan nan nan nan nan nan nan nan nan\n",
      " nan nan nan nan nan nan nan nan nan nan nan nan nan nan nan nan nan nan\n",
      " nan nan nan nan nan nan nan nan nan nan nan nan nan nan nan nan nan nan\n",
      " nan nan nan nan nan nan nan nan nan nan nan nan nan nan nan nan nan nan\n",
      " nan nan nan nan nan nan nan nan nan nan nan nan nan nan nan nan nan nan\n",
      " nan nan nan nan nan nan nan nan nan nan nan nan nan nan nan nan nan nan\n",
      " nan nan nan nan nan nan nan nan nan nan nan nan nan nan nan nan nan nan\n",
      " nan nan nan nan nan nan nan nan nan nan nan nan nan nan nan nan nan nan\n",
      " nan nan nan nan nan nan nan nan nan nan nan nan nan nan nan nan nan nan\n",
      " nan nan nan nan]\n",
      "[ 1  2  3  4  5  6  7  8  9 10 11 12 13 14 15 16 17 18 19 20 21 22 23 24\n",
      " 25 26 27 28 29 30 31 32 33 34 35 36 37 38 39 40 41 42 43 44 45 46 47 48\n",
      " 49 50 51 52 53 54 55 56 57 58 59 60 61 62 63 64 65 66 67 68 70 72 73 75\n",
      " 76 77 78 80 81 82 84 85 87 90 91 94 95 96 97 98 99]\n",
      "[' Federal-gov' ' Local-gov' ' Never-worked' ' Private' ' Self-emp-inc'\n",
      " ' Self-emp-not-inc' ' State-gov' ' Without-pay' 'nan']\n",
      "[' 10th' ' 11th' ' 12th' ' 1st-4th' ' 5th-6th' ' 7th-8th' ' 9th'\n",
      " ' Assoc-acdm' ' Assoc-voc' ' Bachelors' ' Doctorate' ' HS-grad'\n",
      " ' Masters' ' Preschool' ' Prof-school' ' Some-college']\n",
      "[' Divorced' ' Married-AF-spouse' ' Married-civ-spouse'\n",
      " ' Married-spouse-absent' ' Never-married' ' Separated' ' Widowed']\n",
      "[' Adm-clerical' ' Armed-Forces' ' Craft-repair' ' Exec-managerial'\n",
      " ' Farming-fishing' ' Handlers-cleaners' ' Machine-op-inspct'\n",
      " ' Other-service' ' Priv-house-serv' ' Prof-specialty' ' Protective-serv'\n",
      " ' Sales' ' Tech-support' ' Transport-moving' 'nan']\n",
      "[' Husband' ' Not-in-family' ' Other-relative' ' Own-child' ' Unmarried'\n",
      " ' Wife']\n",
      "[' Amer-Indian-Eskimo' ' Asian-Pac-Islander' ' Black' ' Other' ' White']\n",
      "[' Female' ' Male']\n",
      "[' Cambodia' ' Canada' ' China' ' Columbia' ' Cuba' ' Dominican-Republic'\n",
      " ' Ecuador' ' El-Salvador' ' England' ' France' ' Germany' ' Greece'\n",
      " ' Guatemala' ' Haiti' ' Honduras' ' Hong' ' Hungary' ' India' ' Iran'\n",
      " ' Ireland' ' Italy' ' Jamaica' ' Japan' ' Laos' ' Mexico' ' Nicaragua'\n",
      " ' Outlying-US(Guam-USVI-etc)' ' Peru' ' Philippines' ' Poland'\n",
      " ' Portugal' ' Puerto-Rico' ' Scotland' ' South' ' Taiwan' ' Thailand'\n",
      " ' Trinadad&Tobago' ' United-States' ' Vietnam' ' Yugoslavia' 'nan']\n"
     ]
    }
   ],
   "source": [
    "print(X.columns)\n",
    "print(np.unique(getattr(X, X.columns[0]).tolist()))\n",
    "print(np.unique(getattr(X, X.columns[1]).tolist()))\n",
    "print(np.unique(getattr(X, X.columns[2]).tolist()))\n",
    "print(np.unique(getattr(X, X.columns[3]).tolist()))\n",
    "print(np.unique(getattr(X, X.columns[4]).tolist()))\n",
    "print(np.unique(getattr(X, X.columns[5]).tolist()))\n",
    "print(np.unique(getattr(X, X.columns[6]).tolist()))\n",
    "print(np.unique(getattr(X, X.columns[7]).tolist()))\n",
    "print(np.unique(getattr(X, X.columns[8]).tolist()))\n",
    "print(np.unique(getattr(X, X.columns[9]).tolist()))\n",
    "print(np.unique(getattr(X, X.columns[10]).tolist()))"
   ]
  },
  {
   "cell_type": "markdown",
   "metadata": {
    "id": "ICUJgplrAQyn"
   },
   "source": [
    "### Question 1"
   ]
  },
  {
   "cell_type": "code",
   "execution_count": 7,
   "metadata": {
    "id": "wzEcWw_nG-5w"
   },
   "outputs": [],
   "source": [
    "imputeX(X)"
   ]
  },
  {
   "cell_type": "markdown",
   "metadata": {
    "id": "gWUM1XiKAQyr"
   },
   "source": [
    "### Question 2"
   ]
  },
  {
   "cell_type": "code",
   "execution_count": 8,
   "metadata": {
    "colab": {
     "base_uri": "https://localhost:8080/",
     "height": 1000
    },
    "executionInfo": {
     "elapsed": 15145,
     "status": "ok",
     "timestamp": 1603873330083,
     "user": {
      "displayName": "Doruk Kırbeyi",
      "photoUrl": "https://lh3.googleusercontent.com/a-/AOh14Gg7lZvmFjsLSadU1G9V3NlTGJW8Mf6p62xQPrUlkw=s64",
      "userId": "12126647258254016890"
     },
     "user_tz": -180
    },
    "id": "Kr6jyvuf3pcS",
    "outputId": "e53421cc-b218-4507-8b18-11d8a818406b"
   },
   "outputs": [
    {
     "name": "stdout",
     "output_type": "stream",
     "text": [
      "0        3\n",
      "1        3\n",
      "2        3\n",
      "3        3\n",
      "4        0\n",
      "        ..\n",
      "16275    3\n",
      "16276    6\n",
      "16277    6\n",
      "16278    3\n",
      "16279    3\n",
      "Name: workclass, Length: 16280, dtype: object\n",
      "0        11\n",
      "1        15\n",
      "2         7\n",
      "3        15\n",
      "4        15\n",
      "         ..\n",
      "16275     8\n",
      "16276     9\n",
      "16277    12\n",
      "16278    11\n",
      "16279     1\n",
      "Name: education, Length: 16280, dtype: object\n",
      "0        2\n",
      "1        2\n",
      "2        4\n",
      "3        4\n",
      "4        2\n",
      "        ..\n",
      "16275    2\n",
      "16276    4\n",
      "16277    0\n",
      "16278    4\n",
      "16279    2\n",
      "Name: marital-status, Length: 16280, dtype: object\n",
      "0        11\n",
      "1         9\n",
      "2         9\n",
      "3         0\n",
      "4        13\n",
      "         ..\n",
      "16275    13\n",
      "16276     9\n",
      "16277     3\n",
      "16278     6\n",
      "16279    13\n",
      "Name: occupation, Length: 16280, dtype: object\n",
      "0        3\n",
      "1        0\n",
      "2        4\n",
      "3        1\n",
      "4        5\n",
      "        ..\n",
      "16275    0\n",
      "16276    1\n",
      "16277    4\n",
      "16278    1\n",
      "16279    0\n",
      "Name: relationship, Length: 16280, dtype: object\n",
      "0        1\n",
      "1        4\n",
      "2        2\n",
      "3        4\n",
      "4        4\n",
      "        ..\n",
      "16275    4\n",
      "16276    4\n",
      "16277    4\n",
      "16278    4\n",
      "16279    4\n",
      "Name: race, Length: 16280, dtype: object\n",
      "0        0\n",
      "1        1\n",
      "2        0\n",
      "3        0\n",
      "4        0\n",
      "        ..\n",
      "16275    1\n",
      "16276    0\n",
      "16277    0\n",
      "16278    1\n",
      "16279    1\n",
      "Name: sex, Length: 16280, dtype: object\n",
      "0        37\n",
      "1        37\n",
      "2        37\n",
      "3        37\n",
      "4        37\n",
      "         ..\n",
      "16275    37\n",
      "16276    37\n",
      "16277    37\n",
      "16278    37\n",
      "16279    37\n",
      "Name: native-country, Length: 16280, dtype: object\n"
     ]
    }
   ],
   "source": [
    "labelAll(X,labelingColumns)"
   ]
  },
  {
   "cell_type": "markdown",
   "metadata": {
    "id": "jGg8rgJjAQy5"
   },
   "source": [
    "### Question 3"
   ]
  },
  {
   "cell_type": "code",
   "execution_count": 9,
   "metadata": {
    "id": "tiFjr6dX52Uw"
   },
   "outputs": [],
   "source": [
    "X = X.drop(X.columns[[8,9]], axis = 1)\n",
    "\n",
    "scaler = preprocessing.Normalizer()\n",
    "scalerX = scaler.fit(X)\n",
    "X = scalerX.transform(X)"
   ]
  },
  {
   "cell_type": "markdown",
   "metadata": {
    "id": "Zju2MPdjAQzL"
   },
   "source": [
    "## Experiments"
   ]
  },
  {
   "cell_type": "markdown",
   "metadata": {
    "id": "E6nBtEdpAQzM"
   },
   "source": [
    "### Question 1"
   ]
  },
  {
   "cell_type": "code",
   "execution_count": 10,
   "metadata": {
    "id": "g4K3H5_8AQzN"
   },
   "outputs": [],
   "source": [
    "X_train, X_test, y_train, y_test = train_test_split(X, y, test_size=0.143, random_state=42, shuffle=False)"
   ]
  },
  {
   "cell_type": "markdown",
   "metadata": {
    "id": "7FadAb9lAQzX"
   },
   "source": [
    "### Question 2"
   ]
  },
  {
   "cell_type": "code",
   "execution_count": 11,
   "metadata": {
    "colab": {
     "base_uri": "https://localhost:8080/",
     "height": 283
    },
    "executionInfo": {
     "elapsed": 77836,
     "status": "ok",
     "timestamp": 1603874045961,
     "user": {
      "displayName": "Doruk Kırbeyi",
      "photoUrl": "https://lh3.googleusercontent.com/a-/AOh14Gg7lZvmFjsLSadU1G9V3NlTGJW8Mf6p62xQPrUlkw=s64",
      "userId": "12126647258254016890"
     },
     "user_tz": -180
    },
    "id": "In_3nfSKd2an",
    "outputId": "4affdda2-e21d-4bed-bb8b-3f3bec5695d5"
   },
   "outputs": [
    {
     "name": "stdout",
     "output_type": "stream",
     "text": [
      "GaussianNB\n",
      "- best_F1_score = 0.7823645403704786\n",
      "- best_accuracy_score = 0.7722974245588176\n",
      "DecisionTreeClassifier\n",
      "- best_F1_score = 0.7731488899248975\n",
      "- best_accuracy_score = 0.7789928583976236\n",
      "KNeighborsClassifier\n",
      "- best_F1_score = 0.7746232202935378\n",
      "- best_accuracy_score = 0.7757368054702534\n",
      "LogisticRegression\n",
      "- best_F1_score = 0.7747031025401246\n",
      "- best_accuracy_score = 0.7974200416582465\n",
      "SVM\n",
      "- best_F1_score = 0.7908767665565236\n",
      "- best_accuracy_score = 0.8074322062888895\n"
     ]
    }
   ],
   "source": [
    "random_state = 42\n",
    "scoring_method_f1 = make_scorer(lambda true_target, prediction: f1_score(true_target, prediction, average=\"weighted\"))\n",
    "scoring_method_accuracy = make_scorer(lambda true_target,  prediction: accuracy_score(true_target, prediction))\n",
    "\n",
    "model_parameters = {\n",
    "    \"GaussianNB\": {\n",
    "    \n",
    "    },\n",
    "    \"DecisionTreeClassifier\": {\n",
    "        'random_state': [42],\n",
    "        'max_depth': [None],\n",
    "        'min_samples_leaf':[2]\n",
    "    },\n",
    "    \"KNeighborsClassifier\": {\n",
    "        'n_neighbors': [3],\n",
    "        'weights': [\"distance\"]\n",
    "    },\n",
    "    \"LogisticRegression\": {\n",
    "        'C': [10],\n",
    "        'random_state': [42],\n",
    "        'penalty' : [\"none\"]\n",
    "\n",
    "    },\n",
    "    \"SVM\": {\n",
    "        'C': [10],\n",
    "        'random_state': [42],\n",
    "        'kernel': [\"poly\"]\n",
    "    },\n",
    "    \n",
    "}\n",
    "\n",
    "n_splits = 7\n",
    "\n",
    "fvals = []\n",
    "avals = []\n",
    "names = []\n",
    "\n",
    "for model_name, parameters in model_parameters.items():\n",
    "\n",
    "    names.append(model_name)\n",
    "    model = models[model_name]\n",
    "    \n",
    "    cv = StratifiedKFold(n_splits=n_splits, random_state=random_state, shuffle=True)\n",
    "    grid_search_F1 = GridSearchCV(model, parameters, cv=cv, verbose=False, scoring=scoring_method_f1).fit(X, np.ravel(y))\n",
    "    grid_search_accuracy = GridSearchCV(model, parameters, cv=cv, verbose=False, scoring=scoring_method_accuracy).fit(X, np.ravel(y))\n",
    "\n",
    "    best_F1_model = grid_search_F1.best_estimator_\n",
    "    best_F1_score = grid_search_F1.best_score_\n",
    "\n",
    "    best_accuracy_model = grid_search_accuracy.best_estimator_\n",
    "    best_accuracy_score = grid_search_accuracy.best_score_\n",
    "    \n",
    "    print(model_name)\n",
    "    print(\"- best_F1_score =\", best_F1_score)\n",
    "    print(\"- best_accuracy_score =\", best_accuracy_score)\n",
    "\n",
    "    fvals.append(best_F1_score)\n",
    "    avals.append(best_accuracy_score)\n",
    "    "
   ]
  },
  {
   "cell_type": "markdown",
   "metadata": {
    "id": "LFIS6LxvC7cP"
   },
   "source": [
    "Best Result with Default Hyper Parameters:\n",
    "\n",
    "split = 7\n",
    "\n",
    "SVM\n",
    "- best_F1_score = 0.7908767665565236\n",
    "- best_accuracy_score = 0.8074322062888895"
   ]
  },
  {
   "cell_type": "code",
   "execution_count": 12,
   "metadata": {
    "colab": {
     "base_uri": "https://localhost:8080/",
     "height": 387
    },
    "executionInfo": {
     "elapsed": 1125,
     "status": "ok",
     "timestamp": 1603874158153,
     "user": {
      "displayName": "Doruk Kırbeyi",
      "photoUrl": "https://lh3.googleusercontent.com/a-/AOh14Gg7lZvmFjsLSadU1G9V3NlTGJW8Mf6p62xQPrUlkw=s64",
      "userId": "12126647258254016890"
     },
     "user_tz": -180
    },
    "id": "EGviragdGfIM",
    "outputId": "e5dbfdf6-f475-4608-bd9a-e5aee6d3f869"
   },
   "outputs": [
    {
     "data": {
      "image/png": "[encoded data removed]",
      "text/plain": [
       "<Figure size 1008x432 with 1 Axes>"
      ]
     },
     "metadata": {
      "needs_background": "light"
     },
     "output_type": "display_data"
    }
   ],
   "source": [
    "plt.figure(figsize=(14,6))\n",
    "kf = plt.subplot(1,1,1)\n",
    "\n",
    "kf.set_xlabel(\"K-Fold Classifier Type\")\n",
    "kf.set_ylabel(\"K-Fold Accuracy/F1 Score Value\")\n",
    "\n",
    "kf.plot(names, avals, label=\"Accuracy Score\", color=\"red\", marker='o')\n",
    "kf.plot(names, fvals, label=\"F1 Score\", color=\"black\", marker='o')\n",
    "\n",
    "plt.legend()\n",
    "plt.show()"
   ]
  },
  {
   "cell_type": "code",
   "execution_count": 13,
   "metadata": {
    "colab": {
     "base_uri": "https://localhost:8080/",
     "height": 283
    },
    "executionInfo": {
     "elapsed": 5655,
     "status": "ok",
     "timestamp": 1603873352257,
     "user": {
      "displayName": "Doruk Kırbeyi",
      "photoUrl": "https://lh3.googleusercontent.com/a-/AOh14Gg7lZvmFjsLSadU1G9V3NlTGJW8Mf6p62xQPrUlkw=s64",
      "userId": "12126647258254016890"
     },
     "user_tz": -180
    },
    "id": "VSB9miWtAQzY",
    "outputId": "a1fdf9d5-15e6-4c0e-9e6f-fe8809bd7ffa"
   },
   "outputs": [
    {
     "name": "stdout",
     "output_type": "stream",
     "text": [
      "GaussianNB\n",
      "   - accuracy_score 0.7891799055388579\n",
      "   - f1_score 0.7810217355184073\n",
      "DecisionTreeClassifier\n",
      "   - accuracy_score 0.798626019750966\n",
      "   - f1_score 0.8063880598843786\n",
      "KNeighborsClassifier\n",
      "   - accuracy_score 0.7900386431945041\n",
      "   - f1_score 0.7938230342897457\n",
      "SVM\n",
      "   - accuracy_score 0.8085015027908974\n",
      "   - f1_score 0.8260307052163429\n",
      "LogisticRegression\n",
      "   - accuracy_score 0.7977672820953199\n",
      "   - f1_score 0.8218590858788927\n"
     ]
    }
   ],
   "source": [
    "#***********\n",
    "#THIS METHOD IS WITHOUT KFOLD, AND THUS OVERFITS TO SHOW HIGHER RESULTS FOR THE PERFORMANCE METRICS, NO NEED TO RUN THIS ONE. IT IS ONLY HERE SO THE OVERFIT CAN BE OBSERVED AND COMPARED.\n",
    "#***********\n",
    "models = {\n",
    "    \"GaussianNB\": GaussianNB(),\n",
    "    \"DecisionTreeClassifier\": DecisionTreeClassifier(max_depth=None, min_samples_leaf=2, random_state=42),\n",
    "    \"KNeighborsClassifier\": KNeighborsClassifier(n_neighbors=3, weights=\"distance\"),  \n",
    "    \"SVM\": SVC(C=10, kernel=\"poly\",random_state=42),\n",
    "    \"LogisticRegression\": LogisticRegression(penalty=\"none\", C=10, random_state=42, max_iter = 10000),\n",
    "}\n",
    "\n",
    "for name, model in models.items():\n",
    "    model.fit(X_train,np.ravel(y_train,order='C'))\n",
    "    prediction = model.predict(X_test)\n",
    "    print(name)\n",
    "    f1_score_value = f1_score(prediction, y_test, average=\"weighted\")\n",
    "    accuracy = accuracy_score(prediction, y_test)\n",
    "    print(\"   - accuracy_score\", accuracy)\n",
    "    print(\"   - f1_score\", f1_score_value)"
   ]
  },
  {
   "cell_type": "markdown",
   "metadata": {
    "id": "5Ga6sCjHAQzg"
   },
   "source": [
    "### Question 3"
   ]
  },
  {
   "cell_type": "code",
   "execution_count": 14,
   "metadata": {
    "id": "zrbbc8yB2m4l"
   },
   "outputs": [],
   "source": [
    "random_state = 42\n",
    "scoring_method_f1 = make_scorer(lambda true_target, prediction: f1_score(true_target, prediction, average=\"weighted\"))\n",
    "scoring_method_accuracy = make_scorer(lambda true_target,  prediction: accuracy_score(true_target, prediction))\n",
    "\n",
    "model_parameters = {\n",
    "    \"GaussianNB\": {\n",
    "    \n",
    "    },\n",
    "    \"DecisionTreeClassifier\": {\n",
    "        'random_state': [42],\n",
    "        'max_depth': [None, 2, 5, 10],\n",
    "        'min_samples_leaf':[1,2]\n",
    "    },\n",
    "    \"KNeighborsClassifier\": {\n",
    "        'n_neighbors': [1,3,5,7,9],\n",
    "        'weights': [\"uniform\", \"distance\"]\n",
    "    },\n",
    "    \"LogisticRegression\": {\n",
    "        'C': [0.3, 10],\n",
    "        'random_state': [42],\n",
    "        'max_iter': [10000],\n",
    "        'penalty': [\"l2\", \"none\"]\n",
    "    },\n",
    "    \"SVM\": {\n",
    "        'C': [0.3, 10],\n",
    "        'random_state': [42],\n",
    "        'kernel': [\"linear\", \"poly\"]\n",
    "    },\n",
    "    \n",
    "}"
   ]
  },
  {
   "cell_type": "code",
   "execution_count": 15,
   "metadata": {
    "colab": {
     "base_uri": "https://localhost:8080/",
     "height": 840
    },
    "executionInfo": {
     "elapsed": 201995,
     "status": "ok",
     "timestamp": 1603875588487,
     "user": {
      "displayName": "Doruk Kırbeyi",
      "photoUrl": "https://lh3.googleusercontent.com/a-/AOh14Gg7lZvmFjsLSadU1G9V3NlTGJW8Mf6p62xQPrUlkw=s64",
      "userId": "12126647258254016890"
     },
     "user_tz": -180
    },
    "id": "GkbwuCM524up",
    "outputId": "6ae3ce2a-6680-4178-b2a8-9636838565b0"
   },
   "outputs": [
    {
     "name": "stdout",
     "output_type": "stream",
     "text": [
      "Model:  GaussianNB\n",
      " - best_F1_score = 0.7823645403704786\n",
      "    best F1 parameters:\n",
      " - best_accuracy_score = 0.7722974245588176\n",
      "   best accuracy parameters:\n",
      "Model:  DecisionTreeClassifier\n",
      " - best_F1_score = 0.8048323169950061\n",
      "    best F1 parameters:\n",
      "     - max_depth 10\n",
      "     - min_samples_leaf 2\n",
      "     - random_state 42\n",
      " - best_accuracy_score = 0.8089065965054093\n",
      "   best accuracy parameters:\n",
      "     - max_depth 10\n",
      "     - min_samples_leaf 2\n",
      "     - random_state 42\n",
      "Model:  KNeighborsClassifier\n",
      " - best_F1_score = 0.7918432286067414\n",
      "    best F1 parameters:\n",
      "     - n_neighbors 9\n",
      "     - weights uniform\n",
      " - best_accuracy_score = 0.7957615045574438\n",
      "   best accuracy parameters:\n",
      "     - n_neighbors 9\n",
      "     - weights uniform\n",
      "Model:  LogisticRegression\n",
      " - best_F1_score = 0.7747023780356728\n",
      "    best F1 parameters:\n",
      "     - C 0.3\n",
      "     - max_iter 10000\n",
      "     - penalty none\n",
      "     - random_state 42\n",
      " - best_accuracy_score = 0.7974200416582465\n",
      "   best accuracy parameters:\n",
      "     - C 0.3\n",
      "     - max_iter 10000\n",
      "     - penalty none\n",
      "     - random_state 42\n",
      "Model:  SVM\n",
      " - best_F1_score = 0.7908767665565236\n",
      "    best F1 parameters:\n",
      "     - C 10\n",
      "     - kernel poly\n",
      "     - random_state 42\n",
      " - best_accuracy_score = 0.8074322062888895\n",
      "   best accuracy parameters:\n",
      "     - C 10\n",
      "     - kernel poly\n",
      "     - random_state 42\n"
     ]
    }
   ],
   "source": [
    "n_splits = 7\n",
    "\n",
    "fvals_tuned = []\n",
    "avals_tuned = []\n",
    "names_tuned = []\n",
    "\n",
    "for model_name, parameters in model_parameters.items():\n",
    "\n",
    "    names_tuned.append(model_name)    \n",
    "    model = models[model_name]\n",
    "    \n",
    "    cv = StratifiedKFold(n_splits=n_splits, random_state=random_state, shuffle=True)\n",
    "    grid_search_F1 = GridSearchCV(model, parameters, cv=cv, verbose=False, scoring=scoring_method_f1).fit(X, np.ravel(y))\n",
    "    grid_search_accuracy = GridSearchCV(model, parameters, cv=cv, verbose=False, scoring=scoring_method_accuracy).fit(X, np.ravel(y))\n",
    "\n",
    "    best_F1_model = grid_search_F1.best_estimator_\n",
    "    best_F1_score = grid_search_F1.best_score_\n",
    "    best_F1_params = grid_search_F1.best_params_\n",
    "\n",
    "    best_accuracy_model = grid_search_accuracy.best_estimator_\n",
    "    best_accuracy_score = grid_search_accuracy.best_score_\n",
    "    best_accuracy_params = grid_search_accuracy.best_params_\n",
    "    \n",
    "    print(\"Model: \",model_name)\n",
    "    print(\" - best_F1_score =\", best_F1_score)\n",
    "    print(\"    best F1 parameters:\")\n",
    "    for k,v in best_F1_params.items():\n",
    "      print(\"     -\", k, v)\n",
    "    print(\" - best_accuracy_score =\", best_accuracy_score)\n",
    "    print(\"   best accuracy parameters:\")\n",
    "    for k,v in best_accuracy_params.items():\n",
    "        print(\"     -\", k, v)\n",
    "\n",
    "    fvals_tuned.append(best_F1_score)\n",
    "    avals_tuned.append(best_accuracy_score)"
   ]
  },
  {
   "cell_type": "markdown",
   "metadata": {
    "id": "IhP4tGuvAAph"
   },
   "source": [
    "Best Result with Hyper Parameter Tuning\n",
    "\n",
    "split = 7\n",
    "\n",
    "DecisionTreeClassifier\n",
    "- best_F1_score = 0.8048323169950061\n",
    "best F1 parameters:\n",
    "- max_depth 10\n",
    "- min_samples_leaf 2\n",
    "- random_state 42\n",
    "- best_accuracy_score = 0.8089065965054093\n",
    "best accuracy parameters:\n",
    "- max_depth 10\n",
    "- min_samples_leaf 2\n",
    "- random_state 42\n",
    "\n"
   ]
  },
  {
   "cell_type": "markdown",
   "metadata": {
    "id": "z97L0WodAQzn"
   },
   "source": [
    "### Question 4"
   ]
  },
  {
   "cell_type": "code",
   "execution_count": 16,
   "metadata": {
    "colab": {
     "base_uri": "https://localhost:8080/",
     "height": 667
    },
    "executionInfo": {
     "elapsed": 1341,
     "status": "ok",
     "timestamp": 1603876417608,
     "user": {
      "displayName": "Doruk Kırbeyi",
      "photoUrl": "https://lh3.googleusercontent.com/a-/AOh14Gg7lZvmFjsLSadU1G9V3NlTGJW8Mf6p62xQPrUlkw=s64",
      "userId": "12126647258254016890"
     },
     "user_tz": -180
    },
    "id": "qEE0eO3jAQzo",
    "outputId": "e92eb7f3-9602-4ebd-cf89-17df49c1d889"
   },
   "outputs": [
    {
     "data": {
      "image/png": "[encoded data removed]",
      "text/plain": [
       "<Figure size 2160x720 with 1 Axes>"
      ]
     },
     "metadata": {
      "needs_background": "light"
     },
     "output_type": "display_data"
    },
    {
     "data": {
      "image/png": "[encoded data removed]",
      "text/plain": [
       "<Figure size 2160x720 with 1 Axes>"
      ]
     },
     "metadata": {
      "needs_background": "light"
     },
     "output_type": "display_data"
    }
   ],
   "source": [
    "plt.figure(figsize=(30,10))\n",
    "kf = plt.subplot(2,2,1)\n",
    "\n",
    "kf.set_xlabel(\"K-Fold Classifier Type\")\n",
    "kf.set_ylabel(\"K-Fold Accuracy/F1 Score Value With Default Hyper Parameters\")\n",
    "\n",
    "kf.plot(names, avals, label=\"Accuracy Score\", color=\"red\", marker='o')\n",
    "kf.plot(names, fvals, label=\"F1 Score\", color=\"black\", marker='o')\n",
    "\n",
    "plt.legend()\n",
    "plt.show()\n",
    "\n",
    "plt.figure(figsize=(30,10))\n",
    "kf = plt.subplot(2,2,2)\n",
    "\n",
    "kf.set_xlabel(\"K-Fold Classifier Type\")\n",
    "kf.set_ylabel(\"K-Fold Accuracy/F1 Score Value With Hyper Parameter Tuning\")\n",
    "\n",
    "kf.plot(names_tuned, avals_tuned, label=\"Accuracy Score\", color=\"red\", marker='o')\n",
    "kf.plot(names_tuned, fvals_tuned, label=\"F1 Score\", color=\"black\", marker='o')\n",
    "\n",
    "plt.legend()\n",
    "plt.show()"
   ]
  },
  {
   "cell_type": "markdown",
   "metadata": {
    "id": "EpAjTN1sAQzt"
   },
   "source": [
    "### Question 5"
   ]
  },
  {
   "cell_type": "code",
   "execution_count": 17,
   "metadata": {
    "id": "rLCUvYRYAQzu"
   },
   "outputs": [
    {
     "name": "stdout",
     "output_type": "stream",
     "text": [
      "0        3\n",
      "1        2\n",
      "2        2\n",
      "3        2\n",
      "4        2\n",
      "        ..\n",
      "14742    2\n",
      "14743    2\n",
      "14744    5\n",
      "14745    1\n",
      "14746    4\n",
      "Name: workclass, Length: 14747, dtype: object\n",
      "0        15\n",
      "1         2\n",
      "2        15\n",
      "3        11\n",
      "4        15\n",
      "         ..\n",
      "14742     7\n",
      "14743     7\n",
      "14744    11\n",
      "14745    11\n",
      "14746    15\n",
      "Name: education, Length: 14747, dtype: object\n",
      "0        6\n",
      "1        4\n",
      "2        2\n",
      "3        6\n",
      "4        2\n",
      "        ..\n",
      "14742    2\n",
      "14743    4\n",
      "14744    4\n",
      "14745    2\n",
      "14746    2\n",
      "Name: marital-status, Length: 14747, dtype: object\n",
      "0         3\n",
      "1         5\n",
      "2         2\n",
      "3         0\n",
      "4        11\n",
      "         ..\n",
      "14742     3\n",
      "14743     3\n",
      "14744     7\n",
      "14745     3\n",
      "14746     4\n",
      "Name: occupation, Length: 14747, dtype: object\n",
      "0        4\n",
      "1        3\n",
      "2        0\n",
      "3        1\n",
      "4        0\n",
      "        ..\n",
      "14742    0\n",
      "14743    1\n",
      "14744    1\n",
      "14745    0\n",
      "14746    0\n",
      "Name: relationship, Length: 14747, dtype: object\n",
      "0        4\n",
      "1        4\n",
      "2        3\n",
      "3        4\n",
      "4        4\n",
      "        ..\n",
      "14742    4\n",
      "14743    4\n",
      "14744    2\n",
      "14745    4\n",
      "14746    4\n",
      "Name: race, Length: 14747, dtype: object\n",
      "0        1\n",
      "1        1\n",
      "2        1\n",
      "3        0\n",
      "4        1\n",
      "        ..\n",
      "14742    1\n",
      "14743    1\n",
      "14744    1\n",
      "14745    1\n",
      "14746    1\n",
      "Name: sex, Length: 14747, dtype: object\n",
      "0        38\n",
      "1        38\n",
      "2        38\n",
      "3        38\n",
      "4        38\n",
      "         ..\n",
      "14742    38\n",
      "14743    38\n",
      "14744    38\n",
      "14745    38\n",
      "14746    38\n",
      "Name: native-country, Length: 14747, dtype: object\n"
     ]
    }
   ],
   "source": [
    "X_test = pd.read_csv(\"X_test.csv\")\n",
    "imputeX(X_test)\n",
    "labelAll(X_test,labelingColumns)\n",
    "X_test = X_test.drop(X_test.columns[[8,9]], axis = 1)\n",
    "scaler = preprocessing.Normalizer()\n",
    "scalerX_test = scaler.fit(X_test)\n",
    "X_test = scalerX_test.transform(X_test)\n",
    "\n",
    "model = DecisionTreeClassifier(max_depth=10, min_samples_leaf=2, random_state=42)\n",
    "model.fit(X,np.ravel(y,order='C'))\n",
    "prediction = model.predict(X_test)\n",
    "pd.DataFrame(prediction).to_csv(\"170_classes_problem_census.txt\", index=False, header=False)"
   ]
  }
 ],
 "metadata": {
  "colab": {
   "collapsed_sections": [],
   "name": "GROUP_problem_census.ipynb",
   "provenance": [
    {
     "file_id": "16dEFc4nMnmt5TP40lkEWQpVd-qVjdv8y",
     "timestamp": 1603888449599
    },
    {
     "file_id": "1LqJOo-TozrrZMQnUoZ6e5ZlKRWD3oicr",
     "timestamp": 1603799164752
    },
    {
     "file_id": "17_8mdlMD107ItliZ9NmYO-T1JvPnn1As",
     "timestamp": 1603650689054
    },
    {
     "file_id": "1QohAbd9UUdYuQTjvURteDrSAa5J8HQYm",
     "timestamp": 1603630521278
    }
   ]
  },
  "kernelspec": {
   "display_name": "Python 3",
   "language": "python",
   "name": "python3"
  },
  "language_info": {
   "codemirror_mode": {
    "name": "ipython",
    "version": 3
   },
   "file_extension": ".py",
   "mimetype": "text/x-python",
   "name": "python",
   "nbconvert_exporter": "python",
   "pygments_lexer": "ipython3",
   "version": "3.8.3"
  }
 },
 "nbformat": 4,
 "nbformat_minor": 1
}
